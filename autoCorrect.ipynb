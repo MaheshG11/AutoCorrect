{
 "cells": [
  {
   "cell_type": "code",
   "execution_count": 1,
   "metadata": {},
   "outputs": [
    {
     "data": {
      "text/html": [
       "<div>\n",
       "<style scoped>\n",
       "    .dataframe tbody tr th:only-of-type {\n",
       "        vertical-align: middle;\n",
       "    }\n",
       "\n",
       "    .dataframe tbody tr th {\n",
       "        vertical-align: top;\n",
       "    }\n",
       "\n",
       "    .dataframe thead th {\n",
       "        text-align: right;\n",
       "    }\n",
       "</style>\n",
       "<table border=\"1\" class=\"dataframe\">\n",
       "  <thead>\n",
       "    <tr style=\"text-align: right;\">\n",
       "      <th></th>\n",
       "      <th>word</th>\n",
       "      <th>count</th>\n",
       "    </tr>\n",
       "  </thead>\n",
       "  <tbody>\n",
       "    <tr>\n",
       "      <th>0</th>\n",
       "      <td>the</td>\n",
       "      <td>23135851162</td>\n",
       "    </tr>\n",
       "    <tr>\n",
       "      <th>1</th>\n",
       "      <td>of</td>\n",
       "      <td>13151942776</td>\n",
       "    </tr>\n",
       "    <tr>\n",
       "      <th>2</th>\n",
       "      <td>and</td>\n",
       "      <td>12997637966</td>\n",
       "    </tr>\n",
       "    <tr>\n",
       "      <th>3</th>\n",
       "      <td>to</td>\n",
       "      <td>12136980858</td>\n",
       "    </tr>\n",
       "    <tr>\n",
       "      <th>4</th>\n",
       "      <td>a</td>\n",
       "      <td>9081174698</td>\n",
       "    </tr>\n",
       "  </tbody>\n",
       "</table>\n",
       "</div>"
      ],
      "text/plain": [
       "  word        count\n",
       "0  the  23135851162\n",
       "1   of  13151942776\n",
       "2  and  12997637966\n",
       "3   to  12136980858\n",
       "4    a   9081174698"
      ]
     },
     "execution_count": 1,
     "metadata": {},
     "output_type": "execute_result"
    }
   ],
   "source": [
    "import pandas as pd\n",
    "df=pd.read_csv('unigram_freq.csv')\n",
    "Net_freq=df[\"count\"].sum(skipna=True)\n",
    "df.head()\n"
   ]
  },
  {
   "cell_type": "markdown",
   "metadata": {},
   "source": [
    "<h1>The Model</h1>\n",
    "<li>\n",
    " Identifying Misspelled Word</li>\n",
    "<li>\n",
    " Finding strings which strings are n edits away<br>\n",
    " Create The function calculating edit distance for add, delete, swap and replace operations\n",
    " <br>\n",
    "</li>\n",
    "<li>\n",
    "Filter Candidates: consider real words\n",
    "</li>\n",
    "<li>\n",
    "Calculate Word Probablities:<br>\n",
    "    candidate probablitiy=freq(candidate)/(sum of all freq)\n",
    "    <br>\n",
    "</li>\n",
    "\n"
   ]
  },
  {
   "cell_type": "markdown",
   "metadata": {},
   "source": [
    "<h1>EDIT distance</h1>\n",
    "<li>add, delete, replace: 1</li>\n"
   ]
  },
  {
   "cell_type": "code",
   "execution_count": 2,
   "metadata": {},
   "outputs": [],
   "source": [
    "def editDistance(s1:str,s2:str):\n",
    "    n1=len(s1);n2=len(s2)\n",
    "    dp=[[0] * (n2 + 1) for _ in range(n1 + 1)]\n",
    "    for i in range(1,n1+1):dp[i][0]=i\n",
    "    for i in range(1,n2+1):dp[0][i]=i\n",
    "    for i in range(1,n1+1):\n",
    "        for j in range(1,n2+1):\n",
    "            if(s1[i-1]==s2[j-1]):\n",
    "                dp[i][j]=min(dp[i-1][j-1],dp[i-1][j]+1,dp[i][j-1]+1)\n",
    "            else:\n",
    "                dp[i][j]=min(dp[i-1][j-1]+1,dp[i-1][j]+1,dp[i][j-1]+1)\n",
    "\n",
    "    return dp[n1][n2]\n"
   ]
  },
  {
   "cell_type": "markdown",
   "metadata": {},
   "source": [
    "<h1>B K Tree</h1>"
   ]
  },
  {
   "cell_type": "code",
   "execution_count": 11,
   "metadata": {},
   "outputs": [],
   "source": [
    "class BK_Tree_Node:\n",
    "    def __init__(self,word:str,freq:int):\n",
    "        self.children={}\n",
    "        self.word=word\n",
    "        self.freq=freq\n",
    "        \n",
    "class BK_Tree:\n",
    "    def __init__(self,word:str,t:int,freq:int):\n",
    "        self.t=t\n",
    "        self.freq=freq\n",
    "        self.word=word\n",
    "        self.children={}\n",
    "        \n",
    "    def insert(self,word:str ,freq:int):\n",
    "        curr=self\n",
    "        ed=editDistance(word,curr.word)\n",
    "        curr=self.children\n",
    "        while ed in curr:\n",
    "            edi=ed\n",
    "            ed=editDistance(word,curr[edi].word)\n",
    "            curr=curr[edi].children\n",
    "        curr[ed]=BK_Tree_Node(word=word,freq=freq)\n",
    "    def findWords(self,word:str,num=4):\n",
    "        word=word.lower()\n",
    "        edi=editDistance(word,self.word)\n",
    "        possiblewords=[]\n",
    "        t=self.t\n",
    "        addresses=[[edi,self]]\n",
    "        for i in addresses:\n",
    "            [ed,curr]=i\n",
    "            curr=curr.children\n",
    "            low=0\n",
    "            if(ed-t<0):low=0\n",
    "            else:low=ed-t\n",
    "            for j in range(low,ed+t+1):\n",
    "                if j in curr:\n",
    "                    edi=editDistance(curr[j].word,word)\n",
    "                    if curr[j].word !=word :possiblewords.append([edi,1-curr[j].freq/Net_freq,curr[j].word])\n",
    "                    addresses.append([edi,curr[j]])\n",
    "        possiblewords.sort()\n",
    "        for i in range(num):\n",
    "             possiblewords[i]=possiblewords[i][2]\n",
    "\n",
    "        return possiblewords[0:num]\n",
    "    \n",
    "                    \n",
    "\n",
    "tree=BK_Tree(\"the\",5,23135851162)\n",
    "for i in df.iterrows():\n",
    "    i[1][\"word\"]=str(i[1][\"word\"])\n",
    "    i[1][\"word\"]=i[1][\"word\"].lower()\n",
    "    tree.insert(word=i[1][\"word\"],freq=i[1][\"count\"])\n"
   ]
  },
  {
   "cell_type": "markdown",
   "metadata": {},
   "source": [
    "<h1>Enter Your Word</h1>\n",
    "<h4>Read the text below to know how to use it</h4>\n",
    "<br>\n",
    "<h3><b>Note : </b>Remember to run all the other code blocks above </h3>\n"
   ]
  },
  {
   "cell_type": "code",
   "execution_count": 13,
   "metadata": {},
   "outputs": [
    {
     "data": {
      "text/plain": [
       "['corporation', 'corporate', 'corporations', 'corporates']"
      ]
     },
     "execution_count": 13,
     "metadata": {},
     "output_type": "execute_result"
    }
   ],
   "source": [
    "tree.findWords(\"corporateon\",4)\n",
    "#Enter the string ^ here for which you want recommendations and enter number of recommendations you want as the next parameter  "
   ]
  },
  {
   "cell_type": "code",
   "execution_count": null,
   "metadata": {},
   "outputs": [],
   "source": []
  }
 ],
 "metadata": {
  "kernelspec": {
   "display_name": "Python 3",
   "language": "python",
   "name": "python3"
  },
  "language_info": {
   "codemirror_mode": {
    "name": "ipython",
    "version": 3
   },
   "file_extension": ".py",
   "mimetype": "text/x-python",
   "name": "python",
   "nbconvert_exporter": "python",
   "pygments_lexer": "ipython3",
   "version": "3.11.4"
  }
 },
 "nbformat": 4,
 "nbformat_minor": 2
}
